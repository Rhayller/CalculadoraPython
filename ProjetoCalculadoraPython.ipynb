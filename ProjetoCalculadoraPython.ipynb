{
  "nbformat": 4,
  "nbformat_minor": 0,
  "metadata": {
    "colab": {
      "provenance": []
    },
    "kernelspec": {
      "name": "python3",
      "display_name": "Python 3"
    },
    "language_info": {
      "name": "python"
    }
  },
  "cells": [
    {
      "cell_type": "code",
      "execution_count": null,
      "metadata": {
        "id": "gI95ARITHowh"
      },
      "outputs": [],
      "source": [
        "#Projeto Calculadora\n",
        "\n",
        "while True:\n",
        "        print(\"Escolha uma operação:\")\n",
        "        print(\"1 - Adição\")\n",
        "        print(\"2 - Subtração\")\n",
        "        print(\"3 - Multiplicação\")\n",
        "        print(\"4 - Divisão\")\n",
        "        print(\"5 - Sair\")\n",
        "\n",
        "        try:\n",
        "            opcao = int(input(\"Digite sua escolha (1-5): \"))\n",
        "        except ValueError:\n",
        "            print(\"Entrada inválida. Por favor, insira um número de 1 a 5.\")\n",
        "            continue\n",
        "\n",
        "        if opcao == 5:\n",
        "            print(\"Saindo da calculadora...\")\n",
        "            break\n",
        "\n",
        "        if opcao not in range(1, 5):\n",
        "            print(\"Opção inválida. Por favor, escolha uma opção entre 1 e 5\")\n",
        "            continue\n",
        "\n",
        "        try:\n",
        "            num1 = float(input(\"Digite o primeiro número: \"))\n",
        "            num2 = float(input(\"Digite o segundo número: \"))\n",
        "        except ValueError:\n",
        "            print(\"Entrada inválida. Por favor, insira números válidos separados por . \")\n",
        "            continue\n",
        "\n",
        "        if opcao == 1:\n",
        "            resultado = num1 + num2\n",
        "            print(\"O resultado é :\", resultado)\n",
        "        elif opcao == 2:\n",
        "            resultado = num1 - num2\n",
        "            print(\"O resultado é :\", resultado)\n",
        "        elif opcao == 3:\n",
        "            resultado = num1 * num2\n",
        "            print(\"O resultado é :\", resultado)\n",
        "        elif opcao == 4:\n",
        "            if num2 == 0:\n",
        "                print(\"Erro: Divisão não pode ser dividido por zero!\")\n",
        "            else:\n",
        "                resultado = num1 / num2\n",
        "                print(\"O resultado é :\", resultado)"
      ]
    }
  ]
}